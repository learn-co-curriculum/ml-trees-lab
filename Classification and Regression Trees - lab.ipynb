{
 "cells": [
  {
   "cell_type": "markdown",
   "metadata": {},
   "source": [
    "# Decision trees lab"
   ]
  },
  {
   "cell_type": "markdown",
   "metadata": {},
   "source": [
    "Let's create the data set"
   ]
  },
  {
   "cell_type": "code",
   "execution_count": 4,
   "metadata": {},
   "outputs": [],
   "source": [
    "import random\n",
    "import pandas as pd\n",
    "random.seed(123)\n",
    "age_0 = pd.DataFrame([19])\n",
    "age_1 = pd.DataFrame(sorted(random.sample(range(18, 50), 20)))\n",
    "age_2 = pd.DataFrame(sorted(random.sample(range(35, 70), 20)))\n",
    "age_3 = pd.DataFrame([68])\n",
    "\n",
    "age = age_0.append(age_1, ignore_index= True)\n",
    "age = age.append(age_2, ignore_index= True)\n",
    "age = age.append(age_3, ignore_index= True)\n",
    "\n",
    "label_1 = pd.DataFrame([0,1,0,1,0,0,0,0,0,0,0,0,0,0,0,0,0,0,0,0,0])\n",
    "label_2 = pd.DataFrame([1,1,1,1,1,1,1,1,1,1,1,1,1,1,1,1,1,0,1,0,1])\n",
    "\n",
    "label = label_1.append(label_2, ignore_index=True)\n",
    "data = pd.concat([age, label], axis=1)\n",
    "\n",
    "data.columns = ['age', 'label']"
   ]
  },
  {
   "cell_type": "code",
   "execution_count": 6,
   "metadata": {},
   "outputs": [
    {
     "data": {
      "text/html": [
       "<div>\n",
       "<style scoped>\n",
       "    .dataframe tbody tr th:only-of-type {\n",
       "        vertical-align: middle;\n",
       "    }\n",
       "\n",
       "    .dataframe tbody tr th {\n",
       "        vertical-align: top;\n",
       "    }\n",
       "\n",
       "    .dataframe thead th {\n",
       "        text-align: right;\n",
       "    }\n",
       "</style>\n",
       "<table border=\"1\" class=\"dataframe\">\n",
       "  <thead>\n",
       "    <tr style=\"text-align: right;\">\n",
       "      <th></th>\n",
       "      <th>age</th>\n",
       "      <th>label</th>\n",
       "    </tr>\n",
       "  </thead>\n",
       "  <tbody>\n",
       "    <tr>\n",
       "      <th>0</th>\n",
       "      <td>19</td>\n",
       "      <td>0</td>\n",
       "    </tr>\n",
       "    <tr>\n",
       "      <th>1</th>\n",
       "      <td>19</td>\n",
       "      <td>1</td>\n",
       "    </tr>\n",
       "    <tr>\n",
       "      <th>2</th>\n",
       "      <td>20</td>\n",
       "      <td>0</td>\n",
       "    </tr>\n",
       "    <tr>\n",
       "      <th>3</th>\n",
       "      <td>21</td>\n",
       "      <td>1</td>\n",
       "    </tr>\n",
       "    <tr>\n",
       "      <th>4</th>\n",
       "      <td>22</td>\n",
       "      <td>0</td>\n",
       "    </tr>\n",
       "    <tr>\n",
       "      <th>5</th>\n",
       "      <td>23</td>\n",
       "      <td>0</td>\n",
       "    </tr>\n",
       "    <tr>\n",
       "      <th>6</th>\n",
       "      <td>26</td>\n",
       "      <td>0</td>\n",
       "    </tr>\n",
       "    <tr>\n",
       "      <th>7</th>\n",
       "      <td>28</td>\n",
       "      <td>0</td>\n",
       "    </tr>\n",
       "    <tr>\n",
       "      <th>8</th>\n",
       "      <td>29</td>\n",
       "      <td>0</td>\n",
       "    </tr>\n",
       "    <tr>\n",
       "      <th>9</th>\n",
       "      <td>30</td>\n",
       "      <td>0</td>\n",
       "    </tr>\n",
       "    <tr>\n",
       "      <th>10</th>\n",
       "      <td>31</td>\n",
       "      <td>0</td>\n",
       "    </tr>\n",
       "    <tr>\n",
       "      <th>11</th>\n",
       "      <td>35</td>\n",
       "      <td>0</td>\n",
       "    </tr>\n",
       "    <tr>\n",
       "      <th>12</th>\n",
       "      <td>37</td>\n",
       "      <td>0</td>\n",
       "    </tr>\n",
       "    <tr>\n",
       "      <th>13</th>\n",
       "      <td>38</td>\n",
       "      <td>0</td>\n",
       "    </tr>\n",
       "    <tr>\n",
       "      <th>14</th>\n",
       "      <td>39</td>\n",
       "      <td>0</td>\n",
       "    </tr>\n",
       "    <tr>\n",
       "      <th>15</th>\n",
       "      <td>40</td>\n",
       "      <td>0</td>\n",
       "    </tr>\n",
       "    <tr>\n",
       "      <th>16</th>\n",
       "      <td>42</td>\n",
       "      <td>0</td>\n",
       "    </tr>\n",
       "    <tr>\n",
       "      <th>17</th>\n",
       "      <td>44</td>\n",
       "      <td>0</td>\n",
       "    </tr>\n",
       "    <tr>\n",
       "      <th>18</th>\n",
       "      <td>46</td>\n",
       "      <td>0</td>\n",
       "    </tr>\n",
       "    <tr>\n",
       "      <th>19</th>\n",
       "      <td>48</td>\n",
       "      <td>0</td>\n",
       "    </tr>\n",
       "    <tr>\n",
       "      <th>20</th>\n",
       "      <td>49</td>\n",
       "      <td>0</td>\n",
       "    </tr>\n",
       "    <tr>\n",
       "      <th>21</th>\n",
       "      <td>35</td>\n",
       "      <td>1</td>\n",
       "    </tr>\n",
       "    <tr>\n",
       "      <th>22</th>\n",
       "      <td>36</td>\n",
       "      <td>1</td>\n",
       "    </tr>\n",
       "    <tr>\n",
       "      <th>23</th>\n",
       "      <td>37</td>\n",
       "      <td>1</td>\n",
       "    </tr>\n",
       "    <tr>\n",
       "      <th>24</th>\n",
       "      <td>38</td>\n",
       "      <td>1</td>\n",
       "    </tr>\n",
       "    <tr>\n",
       "      <th>25</th>\n",
       "      <td>39</td>\n",
       "      <td>1</td>\n",
       "    </tr>\n",
       "    <tr>\n",
       "      <th>26</th>\n",
       "      <td>44</td>\n",
       "      <td>1</td>\n",
       "    </tr>\n",
       "    <tr>\n",
       "      <th>27</th>\n",
       "      <td>45</td>\n",
       "      <td>1</td>\n",
       "    </tr>\n",
       "    <tr>\n",
       "      <th>28</th>\n",
       "      <td>47</td>\n",
       "      <td>1</td>\n",
       "    </tr>\n",
       "    <tr>\n",
       "      <th>29</th>\n",
       "      <td>49</td>\n",
       "      <td>1</td>\n",
       "    </tr>\n",
       "    <tr>\n",
       "      <th>30</th>\n",
       "      <td>50</td>\n",
       "      <td>1</td>\n",
       "    </tr>\n",
       "    <tr>\n",
       "      <th>31</th>\n",
       "      <td>53</td>\n",
       "      <td>1</td>\n",
       "    </tr>\n",
       "    <tr>\n",
       "      <th>32</th>\n",
       "      <td>54</td>\n",
       "      <td>1</td>\n",
       "    </tr>\n",
       "    <tr>\n",
       "      <th>33</th>\n",
       "      <td>59</td>\n",
       "      <td>1</td>\n",
       "    </tr>\n",
       "    <tr>\n",
       "      <th>34</th>\n",
       "      <td>60</td>\n",
       "      <td>1</td>\n",
       "    </tr>\n",
       "    <tr>\n",
       "      <th>35</th>\n",
       "      <td>62</td>\n",
       "      <td>1</td>\n",
       "    </tr>\n",
       "    <tr>\n",
       "      <th>36</th>\n",
       "      <td>63</td>\n",
       "      <td>1</td>\n",
       "    </tr>\n",
       "    <tr>\n",
       "      <th>37</th>\n",
       "      <td>64</td>\n",
       "      <td>1</td>\n",
       "    </tr>\n",
       "    <tr>\n",
       "      <th>38</th>\n",
       "      <td>65</td>\n",
       "      <td>0</td>\n",
       "    </tr>\n",
       "    <tr>\n",
       "      <th>39</th>\n",
       "      <td>67</td>\n",
       "      <td>1</td>\n",
       "    </tr>\n",
       "    <tr>\n",
       "      <th>40</th>\n",
       "      <td>68</td>\n",
       "      <td>0</td>\n",
       "    </tr>\n",
       "    <tr>\n",
       "      <th>41</th>\n",
       "      <td>68</td>\n",
       "      <td>1</td>\n",
       "    </tr>\n",
       "  </tbody>\n",
       "</table>\n",
       "</div>"
      ],
      "text/plain": [
       "    age  label\n",
       "0    19      0\n",
       "1    19      1\n",
       "2    20      0\n",
       "3    21      1\n",
       "4    22      0\n",
       "5    23      0\n",
       "6    26      0\n",
       "7    28      0\n",
       "8    29      0\n",
       "9    30      0\n",
       "10   31      0\n",
       "11   35      0\n",
       "12   37      0\n",
       "13   38      0\n",
       "14   39      0\n",
       "15   40      0\n",
       "16   42      0\n",
       "17   44      0\n",
       "18   46      0\n",
       "19   48      0\n",
       "20   49      0\n",
       "21   35      1\n",
       "22   36      1\n",
       "23   37      1\n",
       "24   38      1\n",
       "25   39      1\n",
       "26   44      1\n",
       "27   45      1\n",
       "28   47      1\n",
       "29   49      1\n",
       "30   50      1\n",
       "31   53      1\n",
       "32   54      1\n",
       "33   59      1\n",
       "34   60      1\n",
       "35   62      1\n",
       "36   63      1\n",
       "37   64      1\n",
       "38   65      0\n",
       "39   67      1\n",
       "40   68      0\n",
       "41   68      1"
      ]
     },
     "execution_count": 6,
     "metadata": {},
     "output_type": "execute_result"
    }
   ],
   "source": [
    "data"
   ]
  },
  {
   "cell_type": "code",
   "execution_count": 753,
   "metadata": {},
   "outputs": [],
   "source": [
    "def split(col_name, value, data):\n",
    "    data_left = data.loc[data[col_name] <= value]\n",
    "    data_right = data.loc[data[col_name] > value]\n",
    "    return data_left, data_right"
   ]
  },
  {
   "cell_type": "code",
   "execution_count": 754,
   "metadata": {},
   "outputs": [],
   "source": [
    "data_left, data_right = split(\"age\", 49, data)"
   ]
  },
  {
   "cell_type": "code",
   "execution_count": 755,
   "metadata": {},
   "outputs": [],
   "source": [
    "def gini_score(data_left, data_right):\n",
    "    size_left= len(data_left)\n",
    "    size_right = len(data_right)\n",
    "    n_samples = size_left + size_right\n",
    "    p_0L = (data_left['label']==0).sum() / size_left\n",
    "    p_1L = (data_left['label'] == 1).sum() / size_left\n",
    "    p_0R = (data_right['label'] == 0).sum() / size_right\n",
    "    p_1R = (data_right['label'] == 1).sum() / size_right\n",
    "    score_L = p_0L*p_0L+p_1L*p_1L\n",
    "    score_R = p_0R*p_0R+p_1R*p_1R\n",
    "    gini_L = 1- score_L\n",
    "    gini_R = 1- score_R\n",
    "    weight_gini_L = gini_L * (size_left / n_samples)\n",
    "    weight_gini_R = gini_R * (size_right / n_samples)\n",
    "    gain = weight_gini_L + weight_gini_R\n",
    "    return gini_L, gini_R, gain"
   ]
  },
  {
   "cell_type": "code",
   "execution_count": 756,
   "metadata": {},
   "outputs": [
    {
     "data": {
      "text/plain": [
       "(0.46444444444444444, 0.2777777777777777, 0.4111111111111111)"
      ]
     },
     "execution_count": 756,
     "metadata": {},
     "output_type": "execute_result"
    }
   ],
   "source": [
    "gini_score(data_left, data_right)"
   ]
  },
  {
   "cell_type": "code",
   "execution_count": 748,
   "metadata": {},
   "outputs": [],
   "source": [
    "def best_split(data, col_name):\n",
    "    min_age = data[col_name].min()\n",
    "    max_age = data[col_name].max()\n",
    "    best_score = 999\n",
    "    for i in range(min_age, max_age):\n",
    "        data_left, data_right = split(col_name, i, data)\n",
    "        gini_l, gini_r, gain = gini_score(data_left, data_right)\n",
    "        if gain < best_score:\n",
    "            best_val = i\n",
    "            best_score = gain\n",
    "            best_groups = data_left, data_right\n",
    "    output = {}\n",
    "    output['val'] = best_val \n",
    "    output['gini'] = best_score\n",
    "    output['groups'] = best_groups  \n",
    "    return output"
   ]
  },
  {
   "cell_type": "code",
   "execution_count": 749,
   "metadata": {},
   "outputs": [
    {
     "data": {
      "text/plain": [
       "{'gini': 0.4111111111111111, 'groups': (    age  label\n",
       "  30   50      1\n",
       "  31   53      1\n",
       "  32   54      1\n",
       "  33   59      1\n",
       "  34   60      1\n",
       "  35   62      1\n",
       "  36   63      1\n",
       "  37   64      1\n",
       "  38   65      0\n",
       "  39   67      1\n",
       "  40   68      0\n",
       "  41   68      1,     age  label\n",
       "  0    19      0\n",
       "  1    19      1\n",
       "  2    20      0\n",
       "  3    21      1\n",
       "  4    22      0\n",
       "  5    23      0\n",
       "  6    26      0\n",
       "  7    28      0\n",
       "  8    29      0\n",
       "  9    30      0\n",
       "  10   31      0\n",
       "  11   35      0\n",
       "  12   37      0\n",
       "  13   38      0\n",
       "  14   39      0\n",
       "  15   40      0\n",
       "  16   42      0\n",
       "  17   44      0\n",
       "  18   46      0\n",
       "  19   48      0\n",
       "  20   49      0\n",
       "  21   35      1\n",
       "  22   36      1\n",
       "  23   37      1\n",
       "  24   38      1\n",
       "  25   39      1\n",
       "  26   44      1\n",
       "  27   45      1\n",
       "  28   47      1\n",
       "  29   49      1), 'val': 49}"
      ]
     },
     "execution_count": 749,
     "metadata": {},
     "output_type": "execute_result"
    }
   ],
   "source": [
    "best_split(data, \"age\")"
   ]
  },
  {
   "cell_type": "code",
   "execution_count": 739,
   "metadata": {},
   "outputs": [
    {
     "name": "stdout",
     "output_type": "stream",
     "text": [
      "19\n",
      "0.5\n",
      "20\n",
      "0.4957264957264958\n",
      "21\n",
      "0.5\n",
      "22\n",
      "0.4972972972972973\n",
      "23\n",
      "0.4907407407407407\n",
      "24\n",
      "0.4907407407407407\n",
      "25\n",
      "0.4907407407407407\n",
      "26\n",
      "0.4816326530612246\n",
      "27\n",
      "0.4816326530612246\n",
      "28\n",
      "0.47058823529411764\n",
      "29\n",
      "0.4579124579124579\n",
      "30\n",
      "0.4437499999999999\n",
      "31\n",
      "0.4281524926686217\n",
      "32\n",
      "0.4281524926686217\n",
      "33\n",
      "0.4281524926686217\n",
      "34\n",
      "0.4281524926686217\n",
      "35\n",
      "0.4350132625994695\n",
      "36\n",
      "0.4540816326530613\n",
      "37\n",
      "0.4567307692307693\n",
      "38\n",
      "0.4583333333333333\n",
      "39\n",
      "0.4590909090909091\n",
      "40\n",
      "0.4444444444444444\n",
      "41\n",
      "0.4444444444444444\n",
      "42\n",
      "0.4272727272727273\n",
      "43\n",
      "0.4272727272727273\n",
      "44\n",
      "0.42592592592592593\n",
      "45\n",
      "0.44235294117647056\n",
      "46\n",
      "0.4230769230769231\n",
      "47\n",
      "0.4395061728395062\n",
      "48\n",
      "0.4183673469387755\n",
      "49\n",
      "0.4111111111111111\n",
      "50\n",
      "0.4281524926686217\n",
      "51\n",
      "0.4281524926686217\n",
      "52\n",
      "0.4281524926686217\n",
      "53\n",
      "0.4437499999999999\n",
      "54\n",
      "0.4579124579124579\n",
      "55\n",
      "0.4579124579124579\n",
      "56\n",
      "0.4579124579124579\n",
      "57\n",
      "0.4579124579124579\n",
      "58\n",
      "0.4579124579124579\n",
      "59\n",
      "0.47058823529411764\n",
      "60\n",
      "0.4816326530612246\n",
      "61\n",
      "0.4816326530612246\n",
      "62\n",
      "0.4907407407407407\n",
      "63\n",
      "0.4972972972972973\n",
      "64\n",
      "0.5\n",
      "65\n",
      "0.4957264957264958\n",
      "66\n",
      "0.4957264957264958\n",
      "67\n",
      "0.5\n"
     ]
    }
   ],
   "source": [
    "for i in range(min_age, max_age):\n",
    "        data_left, data_right = split(\"age\", i, data)\n",
    "        data_l,data_r, gini = gini_score(data_left, data_right)\n",
    "        print(i)   \n",
    "        print(gini)\n"
   ]
  },
  {
   "cell_type": "markdown",
   "metadata": {},
   "source": [
    "## TRYOUTS"
   ]
  },
  {
   "cell_type": "code",
   "execution_count": 615,
   "metadata": {},
   "outputs": [],
   "source": [
    "def gini_impurity(group_1, group_2):\n",
    "    n = len(group_1) + len(group_2)\n",
    "    divide_class = np.array([sum(group_1), sum(group_2)])\n",
    "    prop = np.array(divide_class)/n\n",
    "    gini = 1-sum(prop * prop)\n",
    "    return gini"
   ]
  },
  {
   "cell_type": "code",
   "execution_count": 616,
   "metadata": {},
   "outputs": [],
   "source": [
    "    divide_class = np.array([sum(group_1), sum(group_2)])\n",
    "    prop = np.array(divide_class)/n\n"
   ]
  },
  {
   "cell_type": "code",
   "execution_count": 617,
   "metadata": {},
   "outputs": [],
   "source": [
    "ginis = gini_impurity(group_1, group_2)"
   ]
  },
  {
   "cell_type": "code",
   "execution_count": null,
   "metadata": {},
   "outputs": [],
   "source": []
  },
  {
   "cell_type": "markdown",
   "metadata": {},
   "source": [
    "Let's look at the gini for age 41"
   ]
  },
  {
   "cell_type": "code",
   "execution_count": 618,
   "metadata": {},
   "outputs": [],
   "source": [
    "ginis = gini_impurity(group_1, group_2)"
   ]
  },
  {
   "cell_type": "code",
   "execution_count": 619,
   "metadata": {},
   "outputs": [],
   "source": [
    "ls=[]\n",
    "lower = data['age'].min()\n",
    "upper = data['age'].max()\n",
    "for i in range(lower, upper):\n",
    "    group_1 = data['label'].loc[data['age'] > i]\n",
    "    group_2 = data['label'].loc[data['age'] <= i]\n",
    "    ginis = gini_impurity(group_1, group_2)\n",
    "    ls.append(ginis)"
   ]
  },
  {
   "cell_type": "code",
   "execution_count": 620,
   "metadata": {},
   "outputs": [],
   "source": [
    "# create split"
   ]
  },
  {
   "cell_type": "markdown",
   "metadata": {},
   "source": [
    "## BEST SPLIT WIP"
   ]
  },
  {
   "cell_type": "code",
   "execution_count": 621,
   "metadata": {},
   "outputs": [
    {
     "data": {
      "text/plain": [
       "range(19, 68)"
      ]
     },
     "execution_count": 621,
     "metadata": {},
     "output_type": "execute_result"
    }
   ],
   "source": [
    "min_age = data['age'].min()\n",
    "max_age = data['age'].max()\n",
    "range(min_age, max_age)"
   ]
  },
  {
   "cell_type": "code",
   "execution_count": 622,
   "metadata": {},
   "outputs": [],
   "source": [
    "def best_split(data, col_name):\n",
    "    min_age = data[col_name].min()\n",
    "    max_age = data[col_name].max()\n",
    "    best_score = 999\n",
    "    for i in range(min_age, max_age):\n",
    "        data_left, data_right = split(col_name, i, data)\n",
    "        gini = gini_score(data_left, data_right)\n",
    "        if gini < best_score:\n",
    "            best_val = i\n",
    "            best_score = gini\n",
    "            best_groups = data_left, data_right\n",
    "    output = {}\n",
    "    output['val'] = best_val \n",
    "    output['gini'] = best_score\n",
    "    output['groups'] = best_groups  \n",
    "    return output"
   ]
  },
  {
   "cell_type": "code",
   "execution_count": 629,
   "metadata": {},
   "outputs": [
    {
     "data": {
      "text/plain": [
       "{'gini': 0.24983563445101908, 'groups': (    age  label\n",
       "  1    20      0\n",
       "  2    21      1\n",
       "  3    22      0\n",
       "  4    23      0\n",
       "  5    26      0\n",
       "  6    28      0\n",
       "  7    29      0\n",
       "  8    30      0\n",
       "  9    31      0\n",
       "  10   35      0\n",
       "  11   37      0\n",
       "  12   38      0\n",
       "  13   39      0\n",
       "  14   40      0\n",
       "  15   42      0\n",
       "  16   44      0\n",
       "  17   46      0\n",
       "  18   48      0\n",
       "  19   49      0\n",
       "  20   35      1\n",
       "  21   36      1\n",
       "  22   37      1\n",
       "  23   38      1\n",
       "  24   39      1\n",
       "  25   44      1\n",
       "  26   45      1\n",
       "  27   47      1\n",
       "  28   49      1\n",
       "  29   50      1\n",
       "  30   53      1\n",
       "  31   54      1\n",
       "  32   59      1\n",
       "  33   60      1\n",
       "  34   62      1\n",
       "  35   63      1\n",
       "  36   64      1\n",
       "  37   65      0\n",
       "  38   67      1\n",
       "  39   68      0,    age  label\n",
       "  0   19      1), 'val': 19}"
      ]
     },
     "execution_count": 629,
     "metadata": {},
     "output_type": "execute_result"
    }
   ],
   "source": [
    "output= best_split(data, \"age\")\n",
    "output\n"
   ]
  },
  {
   "cell_type": "markdown",
   "metadata": {},
   "source": [
    "## Using scikit learn"
   ]
  },
  {
   "cell_type": "code",
   "execution_count": 740,
   "metadata": {},
   "outputs": [
    {
     "name": "stderr",
     "output_type": "stream",
     "text": [
      "/Users/anneleendirick/tensorflow/lib/python3.6/site-packages/ipykernel_launcher.py:3: FutureWarning: reshape is deprecated and will raise in a subsequent release. Please use .values.reshape(...) instead\n",
      "  This is separate from the ipykernel package so we can avoid doing imports until\n"
     ]
    }
   ],
   "source": [
    "from sklearn import tree\n",
    "clf = tree.DecisionTreeClassifier(criterion = \"gini\", max_depth = 1)\n",
    "clf = clf.fit(data['age'].reshape(-1, 1), data['label'])"
   ]
  },
  {
   "cell_type": "code",
   "execution_count": 741,
   "metadata": {},
   "outputs": [
    {
     "data": {
      "text/plain": [
       "DecisionTreeClassifier(class_weight=None, criterion='gini', max_depth=1,\n",
       "            max_features=None, max_leaf_nodes=None,\n",
       "            min_impurity_decrease=0.0, min_impurity_split=None,\n",
       "            min_samples_leaf=1, min_samples_split=2,\n",
       "            min_weight_fraction_leaf=0.0, presort=False, random_state=None,\n",
       "            splitter='best')"
      ]
     },
     "execution_count": 741,
     "metadata": {},
     "output_type": "execute_result"
    }
   ],
   "source": [
    "clf"
   ]
  },
  {
   "cell_type": "code",
   "execution_count": 742,
   "metadata": {},
   "outputs": [],
   "source": [
    "import graphviz \n",
    "from sklearn.tree import export_graphviz\n",
    "dot_data = tree.export_graphviz(clf, out_file=None) \n",
    "graph = graphviz.Source(dot_data) "
   ]
  },
  {
   "cell_type": "code",
   "execution_count": 743,
   "metadata": {},
   "outputs": [
    {
     "data": {
      "image/svg+xml": [
       "<?xml version=\"1.0\" encoding=\"UTF-8\" standalone=\"no\"?>\n",
       "<!DOCTYPE svg PUBLIC \"-//W3C//DTD SVG 1.1//EN\"\n",
       " \"http://www.w3.org/Graphics/SVG/1.1/DTD/svg11.dtd\">\n",
       "<!-- Generated by graphviz version 2.40.1 (20161225.0304)\n",
       " -->\n",
       "<!-- Title: Tree Pages: 1 -->\n",
       "<svg width=\"188pt\" height=\"165pt\"\n",
       " viewBox=\"0.00 0.00 188.00 165.00\" xmlns=\"http://www.w3.org/2000/svg\" xmlns:xlink=\"http://www.w3.org/1999/xlink\">\n",
       "<g id=\"graph0\" class=\"graph\" transform=\"scale(1 1) rotate(0) translate(4 161)\">\n",
       "<title>Tree</title>\n",
       "<polygon fill=\"#ffffff\" stroke=\"transparent\" points=\"-4,4 -4,-161 184,-161 184,4 -4,4\"/>\n",
       "<!-- 0 -->\n",
       "<g id=\"node1\" class=\"node\">\n",
       "<title>0</title>\n",
       "<polygon fill=\"none\" stroke=\"#000000\" points=\"133,-157 49,-157 49,-89 133,-89 133,-157\"/>\n",
       "<text text-anchor=\"middle\" x=\"91\" y=\"-141.8\" font-family=\"Times,serif\" font-size=\"14.00\" fill=\"#000000\">X[0] &lt;= 49.5</text>\n",
       "<text text-anchor=\"middle\" x=\"91\" y=\"-126.8\" font-family=\"Times,serif\" font-size=\"14.00\" fill=\"#000000\">gini = 0.5</text>\n",
       "<text text-anchor=\"middle\" x=\"91\" y=\"-111.8\" font-family=\"Times,serif\" font-size=\"14.00\" fill=\"#000000\">samples = 42</text>\n",
       "<text text-anchor=\"middle\" x=\"91\" y=\"-96.8\" font-family=\"Times,serif\" font-size=\"14.00\" fill=\"#000000\">value = [21, 21]</text>\n",
       "</g>\n",
       "<!-- 1 -->\n",
       "<g id=\"node2\" class=\"node\">\n",
       "<title>1</title>\n",
       "<polygon fill=\"none\" stroke=\"#000000\" points=\"84,-53 0,-53 0,0 84,0 84,-53\"/>\n",
       "<text text-anchor=\"middle\" x=\"42\" y=\"-37.8\" font-family=\"Times,serif\" font-size=\"14.00\" fill=\"#000000\">gini = 0.464</text>\n",
       "<text text-anchor=\"middle\" x=\"42\" y=\"-22.8\" font-family=\"Times,serif\" font-size=\"14.00\" fill=\"#000000\">samples = 30</text>\n",
       "<text text-anchor=\"middle\" x=\"42\" y=\"-7.8\" font-family=\"Times,serif\" font-size=\"14.00\" fill=\"#000000\">value = [19, 11]</text>\n",
       "</g>\n",
       "<!-- 0&#45;&gt;1 -->\n",
       "<g id=\"edge1\" class=\"edge\">\n",
       "<title>0&#45;&gt;1</title>\n",
       "<path fill=\"none\" stroke=\"#000000\" d=\"M73.7244,-88.9777C69.3538,-80.3702 64.6462,-71.0992 60.23,-62.402\"/>\n",
       "<polygon fill=\"#000000\" stroke=\"#000000\" points=\"63.2304,-60.5802 55.5821,-53.2485 56.9889,-63.7495 63.2304,-60.5802\"/>\n",
       "<text text-anchor=\"middle\" x=\"47.8236\" y=\"-73.3141\" font-family=\"Times,serif\" font-size=\"14.00\" fill=\"#000000\">True</text>\n",
       "</g>\n",
       "<!-- 2 -->\n",
       "<g id=\"node3\" class=\"node\">\n",
       "<title>2</title>\n",
       "<polygon fill=\"none\" stroke=\"#000000\" points=\"180,-53 102,-53 102,0 180,0 180,-53\"/>\n",
       "<text text-anchor=\"middle\" x=\"141\" y=\"-37.8\" font-family=\"Times,serif\" font-size=\"14.00\" fill=\"#000000\">gini = 0.278</text>\n",
       "<text text-anchor=\"middle\" x=\"141\" y=\"-22.8\" font-family=\"Times,serif\" font-size=\"14.00\" fill=\"#000000\">samples = 12</text>\n",
       "<text text-anchor=\"middle\" x=\"141\" y=\"-7.8\" font-family=\"Times,serif\" font-size=\"14.00\" fill=\"#000000\">value = [2, 10]</text>\n",
       "</g>\n",
       "<!-- 0&#45;&gt;2 -->\n",
       "<g id=\"edge2\" class=\"edge\">\n",
       "<title>0&#45;&gt;2</title>\n",
       "<path fill=\"none\" stroke=\"#000000\" d=\"M108.6281,-88.9777C113.088,-80.3702 117.8916,-71.0992 122.3979,-62.402\"/>\n",
       "<polygon fill=\"#000000\" stroke=\"#000000\" points=\"125.6478,-63.7376 127.1407,-53.2485 119.4325,-60.5172 125.6478,-63.7376\"/>\n",
       "<text text-anchor=\"middle\" x=\"134.704\" y=\"-73.377\" font-family=\"Times,serif\" font-size=\"14.00\" fill=\"#000000\">False</text>\n",
       "</g>\n",
       "</g>\n",
       "</svg>\n"
      ],
      "text/plain": [
       "<graphviz.files.Source at 0x11bdc17f0>"
      ]
     },
     "execution_count": 743,
     "metadata": {},
     "output_type": "execute_result"
    }
   ],
   "source": [
    "export_graphviz(clf, out_file=\"mytree.dot\")\n",
    "with open(\"mytree.dot\") as f:\n",
    "    dot_graph = f.read()\n",
    "graphviz.Source(dot_graph)"
   ]
  },
  {
   "cell_type": "markdown",
   "metadata": {},
   "source": [
    "# compute the gini index "
   ]
  },
  {
   "cell_type": "code",
   "execution_count": 331,
   "metadata": {},
   "outputs": [],
   "source": [
    "# Calculate the Gini index for a split dataset\n",
    "def gini_index(groups, classes):\n",
    "\t# count all samples at split point\n",
    "\tn_instances = float(sum([len(group) for group in groups]))\n",
    "\t# sum weighted Gini index for each group\n",
    "\tgini = 0.0\n",
    "\tfor group in groups:\n",
    "\t\tsize = float(len(group))\n",
    "\t\t# avoid divide by zero\n",
    "\t\tif size == 0:\n",
    "\t\t\tcontinue\n",
    "\t\tscore = 0.0\n",
    "\t\t# score the group based on the score for each class\n",
    "\t\tfor class_val in classes:\n",
    "\t\t\tp = [row[-1] for row in group].count(class_val) / size\n",
    "\t\t\tscore += p * p\n",
    "\t\t# weight the group score by its relative size\n",
    "\t\tgini += (1.0 - score) * (size / n_instances)\n",
    "\treturn gini"
   ]
  },
  {
   "cell_type": "code",
   "execution_count": null,
   "metadata": {},
   "outputs": [],
   "source": [
    "# Calculate the Gini index for a split dataset\n",
    "def gini_index(groups, classes):\n",
    "\t# count all samples at split point\n",
    "\tn_instances = float(sum([len(group) for group in groups]))\n",
    "\t# sum weighted Gini index for each group\n",
    "\tgini = 0.0\n",
    "\tfor group in groups:\n",
    "\t\tsize = float(len(group))\n",
    "\t\t# avoid divide by zero\n",
    "\t\tif size == 0:\n",
    "\t\t\tcontinue\n",
    "\t\tscore = 0.0\n",
    "\t\t# score the group based on the score for each class\n",
    "\t\tfor class_val in classes:\n",
    "\t\t\tp = [row[-1] for row in group].count(class_val) / size\n",
    "\t\t\tscore += p * p\n",
    "\t\t# weight the group score by its relative size\n",
    "\t\tgini += (1.0 - score) * (size / n_instances)\n",
    "\treturn gini"
   ]
  },
  {
   "cell_type": "code",
   "execution_count": 516,
   "metadata": {},
   "outputs": [],
   "source": [
    "def split(col, value, data):\n",
    "    data = np.array(data)\n",
    "    data_left = np.array([]).reshape(0,data.shape[1])\n",
    "    data_right = np.array([]).reshape(0,data.shape[1])\n",
    "    for i in data:\n",
    "        if i[col] <= value:\n",
    "            data_left = np.vstack((data_left,i))\n",
    "        if i[col] > value:\n",
    "            data_right = np.vstack((data_right,i))\n",
    "    return data_left, data_right"
   ]
  },
  {
   "cell_type": "code",
   "execution_count": 520,
   "metadata": {},
   "outputs": [],
   "source": [
    "data_left, data_right = split(0,41,data)"
   ]
  },
  {
   "cell_type": "code",
   "execution_count": 501,
   "metadata": {},
   "outputs": [],
   "source": [
    "?np.vstack"
   ]
  },
  {
   "cell_type": "code",
   "execution_count": 521,
   "metadata": {},
   "outputs": [
    {
     "data": {
      "text/plain": [
       "array([[19.,  1.],\n",
       "       [20.,  1.],\n",
       "       [21.,  1.],\n",
       "       [22.,  0.],\n",
       "       [23.,  0.],\n",
       "       [26.,  0.],\n",
       "       [28.,  0.],\n",
       "       [29.,  0.],\n",
       "       [30.,  0.],\n",
       "       [31.,  0.],\n",
       "       [35.,  0.],\n",
       "       [37.,  0.],\n",
       "       [38.,  0.],\n",
       "       [39.,  0.],\n",
       "       [40.,  0.],\n",
       "       [35.,  1.],\n",
       "       [36.,  1.],\n",
       "       [37.,  1.],\n",
       "       [38.,  1.],\n",
       "       [39.,  1.]])"
      ]
     },
     "execution_count": 521,
     "metadata": {},
     "output_type": "execute_result"
    }
   ],
   "source": [
    "data_left"
   ]
  },
  {
   "cell_type": "markdown",
   "metadata": {},
   "source": [
    "# Sources\n",
    "https://www.svds.com/machine-learning-vs-statistics/ https://github.com/xbno/Projects/blob/master/Models_Scratch/Decision%20Trees%20from%20scratch.ipynb"
   ]
  }
 ],
 "metadata": {
  "kernelspec": {
   "display_name": "Python 3",
   "language": "python",
   "name": "python3"
  },
  "language_info": {
   "codemirror_mode": {
    "name": "ipython",
    "version": 3
   },
   "file_extension": ".py",
   "mimetype": "text/x-python",
   "name": "python",
   "nbconvert_exporter": "python",
   "pygments_lexer": "ipython3",
   "version": "3.6.4"
  }
 },
 "nbformat": 4,
 "nbformat_minor": 2
}
